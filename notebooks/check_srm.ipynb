{
 "cells": [
  {
   "cell_type": "code",
   "execution_count": 1,
   "metadata": {},
   "outputs": [],
   "source": [
    "from scipy import stats\n",
    "import numpy as np\n",
    "import pandas as pd\n",
    "\n",
    "import sys\n",
    "import os"
   ]
  },
  {
   "cell_type": "code",
   "execution_count": 2,
   "metadata": {},
   "outputs": [],
   "source": [
    "def check_srm(df, groups, proportion, dimensions=None):\n",
    "    \"\"\"Function takes pandas data frame, column name for groups names, expected proportion between the groups, and names of dimensions\n",
    "    and returns data frame with dimension name, p_value and adjusted p_value.\n",
    "    df - pandas data frame with data for experiment;  \n",
    "    groups - name of a column in data frame that contains user groups names;\n",
    "    proportion - dict of expected proportion of each user group. Sum of proportions should be equal to 1;\n",
    "    dimensions - list of columns that indicate dimensions (like country, os, demographical categories etc). None by default.\n",
    "    \"\"\"\n",
    "    \n",
    "    results = {\n",
    "        'split': [],\n",
    "        'p value': []\n",
    "    }\n",
    "    \n",
    "    # calculate for groups\n",
    "    observed = []\n",
    "    expected = []\n",
    "    \n",
    "    # for every class in the column calculate observed and expected number of records\n",
    "    for key in proportion.keys():\n",
    "        observed.append(df[df[groups]==key].shape[0])\n",
    "        expected.append(proportion[key] * df.shape[0])\n",
    "    \n",
    "    contingency_table = np.array([observed, expected])\n",
    "    \n",
    "    # execute chi2 test and get p value\n",
    "    p_value = stats.chi2_contingency(contingency_table, correction=False)[1]\n",
    "    \n",
    "    results['split'].append('groups')\n",
    "    results['p value'].append(round(p_value, 3))\n",
    "    \n",
    "    \n",
    "    # if dimensions are specified, compare distribution of classes between test and control groups\n",
    "    if dimensions is not None:\n",
    "        for dimension in dimensions:\n",
    "            # get unique classes\n",
    "            classes = set(df[dimension])\n",
    "            \n",
    "            # create dict to store proportions\n",
    "            groups_dimension = {}\n",
    "            \n",
    "            # for each group \n",
    "            for key in proportion.keys():\n",
    "                groups_dimension[key] = []\n",
    "                \n",
    "                for c in classes:\n",
    "                    # append number of records for the group & class combination\n",
    "                    groups_dimension[key].append(df[(df[groups]==key) & (df[dimension]==c)].shape[0])\n",
    "            \n",
    "            \n",
    "            contingency_table = np.array([groups_dimension[key] for key in groups_dimension.keys()])\n",
    "            \n",
    "            p_value = stats.chi2_contingency(contingency_table, correction=False)[1]\n",
    "    \n",
    "            results['split'].append(dimension)\n",
    "            results['p value'].append(round(p_value, 3))\n",
    "    \n",
    "    return pd.DataFrame(results)"
   ]
  },
  {
   "cell_type": "markdown",
   "metadata": {},
   "source": [
    "### Generate synthetic data with data_generator to test the function  \n",
    "data generator: https://github.com/dzianissokalau/data_generator\n"
   ]
  },
  {
   "cell_type": "code",
   "execution_count": 3,
   "metadata": {},
   "outputs": [],
   "source": [
    "sys.path.append(os.path.realpath('../../'))\n",
    "import data_generator"
   ]
  },
  {
   "cell_type": "code",
   "execution_count": 12,
   "metadata": {},
   "outputs": [
    {
     "data": {
      "text/html": [
       "<div>\n",
       "<style scoped>\n",
       "    .dataframe tbody tr th:only-of-type {\n",
       "        vertical-align: middle;\n",
       "    }\n",
       "\n",
       "    .dataframe tbody tr th {\n",
       "        vertical-align: top;\n",
       "    }\n",
       "\n",
       "    .dataframe thead th {\n",
       "        text-align: right;\n",
       "    }\n",
       "</style>\n",
       "<table border=\"1\" class=\"dataframe\">\n",
       "  <thead>\n",
       "    <tr style=\"text-align: right;\">\n",
       "      <th></th>\n",
       "      <th>group</th>\n",
       "      <th>country</th>\n",
       "      <th>platform</th>\n",
       "      <th>payment</th>\n",
       "    </tr>\n",
       "  </thead>\n",
       "  <tbody>\n",
       "    <tr>\n",
       "      <th>0</th>\n",
       "      <td>control</td>\n",
       "      <td>IT</td>\n",
       "      <td>android</td>\n",
       "      <td>0</td>\n",
       "    </tr>\n",
       "    <tr>\n",
       "      <th>1</th>\n",
       "      <td>control</td>\n",
       "      <td>UK</td>\n",
       "      <td>android</td>\n",
       "      <td>1</td>\n",
       "    </tr>\n",
       "    <tr>\n",
       "      <th>2</th>\n",
       "      <td>experimental</td>\n",
       "      <td>UK</td>\n",
       "      <td>ios</td>\n",
       "      <td>0</td>\n",
       "    </tr>\n",
       "    <tr>\n",
       "      <th>3</th>\n",
       "      <td>experimental</td>\n",
       "      <td>UK</td>\n",
       "      <td>ios</td>\n",
       "      <td>0</td>\n",
       "    </tr>\n",
       "    <tr>\n",
       "      <th>4</th>\n",
       "      <td>control</td>\n",
       "      <td>FR</td>\n",
       "      <td>web</td>\n",
       "      <td>0</td>\n",
       "    </tr>\n",
       "  </tbody>\n",
       "</table>\n",
       "</div>"
      ],
      "text/plain": [
       "          group country platform  payment\n",
       "0       control      IT  android        0\n",
       "1       control      UK  android        1\n",
       "2  experimental      UK      ios        0\n",
       "3  experimental      UK      ios        0\n",
       "4       control      FR      web        0"
      ]
     },
     "execution_count": 12,
     "metadata": {},
     "output_type": "execute_result"
    }
   ],
   "source": [
    "# set the dataset parameters\n",
    "params = {\n",
    "     'categorical': {\n",
    "         'group': {\n",
    "             'categories': ['experimental', 'control'],\n",
    "             'probs': [0.5, 0.5]\n",
    "         },\n",
    "         'country': {\n",
    "             'categories': ['UK', 'DE', 'FR', 'IT'],\n",
    "             'probs': [0.31, 0.27, 0.23, 0.19]\n",
    "         },\n",
    "        'platform': {\n",
    "            'categories': ['android', 'ios', 'web'],\n",
    "            'probs': [0.41, 0.29, 0.3]\n",
    "        }\n",
    "    },\n",
    "    'values': {\n",
    "        'payment': {\n",
    "            'distribution': 'binomial',\n",
    "            'parameters': {\n",
    "                'n': 1, \n",
    "                'p': 0.2\n",
    "            },\n",
    "            'indices': False\n",
    "        }\n",
    "    }\n",
    "}\n",
    "\n",
    "\n",
    "df = data_generator.create_dataset(rows=100000, params=params, seed=1)\n",
    "df.head()"
   ]
  },
  {
   "cell_type": "markdown",
   "metadata": {},
   "source": [
    "### Test SRM"
   ]
  },
  {
   "cell_type": "code",
   "execution_count": 13,
   "metadata": {},
   "outputs": [
    {
     "data": {
      "text/html": [
       "<div>\n",
       "<style scoped>\n",
       "    .dataframe tbody tr th:only-of-type {\n",
       "        vertical-align: middle;\n",
       "    }\n",
       "\n",
       "    .dataframe tbody tr th {\n",
       "        vertical-align: top;\n",
       "    }\n",
       "\n",
       "    .dataframe thead th {\n",
       "        text-align: right;\n",
       "    }\n",
       "</style>\n",
       "<table border=\"1\" class=\"dataframe\">\n",
       "  <thead>\n",
       "    <tr style=\"text-align: right;\">\n",
       "      <th></th>\n",
       "      <th>split</th>\n",
       "      <th>p value</th>\n",
       "    </tr>\n",
       "  </thead>\n",
       "  <tbody>\n",
       "    <tr>\n",
       "      <th>0</th>\n",
       "      <td>groups</td>\n",
       "      <td>0.035</td>\n",
       "    </tr>\n",
       "    <tr>\n",
       "      <th>1</th>\n",
       "      <td>country</td>\n",
       "      <td>0.114</td>\n",
       "    </tr>\n",
       "    <tr>\n",
       "      <th>2</th>\n",
       "      <td>platform</td>\n",
       "      <td>0.714</td>\n",
       "    </tr>\n",
       "  </tbody>\n",
       "</table>\n",
       "</div>"
      ],
      "text/plain": [
       "      split  p value\n",
       "0    groups    0.035\n",
       "1   country    0.114\n",
       "2  platform    0.714"
      ]
     },
     "execution_count": 13,
     "metadata": {},
     "output_type": "execute_result"
    }
   ],
   "source": [
    "check_srm(\n",
    "    df=df, \n",
    "    groups='group', \n",
    "    proportion={'experimental':0.5, 'control':0.5}, \n",
    "    dimensions=['country', 'platform'])"
   ]
  },
  {
   "cell_type": "markdown",
   "metadata": {},
   "source": [
    "The function doesn't see problems in country and platform dimensions, but see that something can be wrong with the users split by group. let's check the numbers."
   ]
  },
  {
   "cell_type": "code",
   "execution_count": 15,
   "metadata": {},
   "outputs": [
    {
     "data": {
      "text/plain": [
       "group\n",
       "control         50472\n",
       "experimental    49528\n",
       "Name: payment, dtype: int64"
      ]
     },
     "execution_count": 15,
     "metadata": {},
     "output_type": "execute_result"
    }
   ],
   "source": [
    "df.groupby('group')['payment'].count()"
   ]
  }
 ],
 "metadata": {
  "kernelspec": {
   "display_name": "Python 3",
   "language": "python",
   "name": "python3"
  },
  "language_info": {
   "codemirror_mode": {
    "name": "ipython",
    "version": 3
   },
   "file_extension": ".py",
   "mimetype": "text/x-python",
   "name": "python",
   "nbconvert_exporter": "python",
   "pygments_lexer": "ipython3",
   "version": "3.8.2"
  }
 },
 "nbformat": 4,
 "nbformat_minor": 4
}
